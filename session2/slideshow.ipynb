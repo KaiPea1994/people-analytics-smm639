{
 "cells": [
  {
   "cell_type": "markdown",
   "metadata": {
    "toc": true
   },
   "source": [
    "<h1>Table of Contents<span class=\"tocSkip\"></span></h1>\n",
    "<div class=\"toc\"><ul class=\"toc-item\"><li><span><a href=\"#Multi-site-approach\" data-toc-modified-id=\"Multi-site-approach-1\">Multi-site approach</a></span></li><li><span><a href=\"#Single-site-approach\" data-toc-modified-id=\"Single-site-approach-2\">Single-site approach</a></span></li></ul></div>"
   ]
  },
  {
   "cell_type": "markdown",
   "metadata": {
    "slideshow": {
     "slide_type": "slide"
    }
   },
   "source": [
    "# SMM639, week 11\n",
    "\n",
    "<img src='images/cogs_and_wheels.jpg' width=400px/>"
   ]
  },
  {
   "cell_type": "markdown",
   "metadata": {
    "hide_input": false,
    "slideshow": {
     "slide_type": "slide"
    }
   },
   "source": [
    "# People analytics and policy evaluation"
   ]
  },
  {
   "cell_type": "markdown",
   "metadata": {
    "slideshow": {
     "slide_type": "subslide"
    }
   },
   "source": [
    "# People analytics & HR/org design policies"
   ]
  },
  {
   "cell_type": "markdown",
   "metadata": {
    "cell_style": "split",
    "slideshow": {
     "slide_type": "fragment"
    }
   },
   "source": [
    "* A key task in the field of people analytics is exploring, possibly, evaluating proposals for new HR/org design policies\n",
    "* Example of questions people analysts' may deal with:\n",
    "  * shall we adopt a ML/DL drive approach to team formation? Which is the algorithm that best fits the organization?\n",
    "  * shall we increase the autonomy of team leaders? Then, to what extent?\n",
    "  * shall we increase the amount of time team leaders spend training newcomers? Then, to what extent?"
   ]
  },
  {
   "cell_type": "markdown",
   "metadata": {
    "cell_style": "split",
    "slideshow": {
     "slide_type": "fragment"
    }
   },
   "source": [
    "<img src='images/hr_decision.jpg' width=400px />"
   ]
  },
  {
   "cell_type": "markdown",
   "metadata": {
    "slideshow": {
     "slide_type": "subslide"
    }
   },
   "source": [
    "# Testing HR/org design policies"
   ]
  },
  {
   "cell_type": "markdown",
   "metadata": {
    "cell_style": "split",
    "slideshow": {
     "slide_type": "fragment"
    }
   },
   "source": [
    "* By design, data on policies that are new to the company/to the world are at best fragmented, tipically non-existent\n",
    "* Hence, analysts are increasingly involved in the design of (small-scale) experiments that allow to gather some data"
   ]
  },
  {
   "cell_type": "markdown",
   "metadata": {
    "cell_style": "split",
    "slideshow": {
     "slide_type": "fragment"
    }
   },
   "source": [
    "<img src='images/testing.png' width=400px/>"
   ]
  },
  {
   "cell_type": "markdown",
   "metadata": {
    "slideshow": {
     "slide_type": "slide"
    }
   },
   "source": [
    "<center>\n",
    "    \n",
    "# Testing HR/org design policies – Inferential challenges\n",
    "\n",
    "</center>"
   ]
  },
  {
   "cell_type": "markdown",
   "metadata": {
    "slideshow": {
     "slide_type": "subslide"
    }
   },
   "source": [
    "# Correlation != Causation"
   ]
  },
  {
   "cell_type": "markdown",
   "metadata": {
    "cell_style": "split",
    "slideshow": {
     "slide_type": "fragment"
    }
   },
   "source": [
    "<img src='images/yikes.jpg' width=400px/>"
   ]
  },
  {
   "cell_type": "markdown",
   "metadata": {
    "cell_style": "split",
    "slideshow": {
     "slide_type": "fragment"
    }
   },
   "source": [
    "<img src='images/labor_econ.jpg' width=400px/>"
   ]
  },
  {
   "cell_type": "markdown",
   "metadata": {
    "slideshow": {
     "slide_type": "subslide"
    }
   },
   "source": [
    "# Correlation != Causation – Voluntay schemes and self-selection"
   ]
  },
  {
   "cell_type": "markdown",
   "metadata": {
    "cell_style": "split",
    "slideshow": {
     "slide_type": "fragment"
    }
   },
   "source": [
    "* New policies are tested on volunteering employees and teams (treated units)\n",
    "* This raises self-selection issues"
   ]
  },
  {
   "cell_type": "markdown",
   "metadata": {
    "cell_style": "split",
    "slideshow": {
     "slide_type": "fragment"
    }
   },
   "source": [
    "<img src='images/remote_working.png' />"
   ]
  },
  {
   "cell_type": "markdown",
   "metadata": {
    "slideshow": {
     "slide_type": "subslide"
    }
   },
   "source": [
    "# Correlation != Causation – Interference issues"
   ]
  },
  {
   "cell_type": "markdown",
   "metadata": {
    "cell_style": "split",
    "slideshow": {
     "slide_type": "fragment"
    }
   },
   "source": [
    "* The administration of a new policy could unintentionally affect employees and teams that do not part take into the test (supposed control units)\n",
    "* This pollutes the estimates for the treatment"
   ]
  },
  {
   "cell_type": "markdown",
   "metadata": {
    "cell_style": "split",
    "slideshow": {
     "slide_type": "fragment"
    }
   },
   "source": [
    "<img src='images/uber_synth_control.png' width=500px/>\n",
    "\n",
    "Link: https://www.youtube.com/watch?v=j5DoJV5S2Ao&t=89s"
   ]
  },
  {
   "cell_type": "markdown",
   "metadata": {
    "slideshow": {
     "slide_type": "slide"
    }
   },
   "source": [
    "<center>\n",
    "\n",
    "\n",
    "# Scope for tomorrow's lab:\n",
    "    \n",
    "# _Does Working from Home affect productivity?_\n",
    "\n",
    "</center>"
   ]
  },
  {
   "cell_type": "markdown",
   "metadata": {
    "slideshow": {
     "slide_type": "slide"
    }
   },
   "source": [
    "<center>\n",
    "\n",
    "# WfH & productivity: A longstanding debate\n",
    "    \n",
    "</center>"
   ]
  },
  {
   "cell_type": "markdown",
   "metadata": {
    "slideshow": {
     "slide_type": "slide"
    }
   },
   "source": [
    "# WfH: A case of research - practice divide"
   ]
  },
  {
   "cell_type": "markdown",
   "metadata": {
    "cell_style": "split",
    "slideshow": {
     "slide_type": "fragment"
    }
   },
   "source": [
    "Substantial __research__ has been devoted to the topic of WfH since the late 1990s.\n",
    "\n",
    "<center>\n",
    "    \n",
    "<img\n",
    "     src='images/people_and_pixels.jpg' width=300px \n",
    "/>\n",
    "    \n",
    "</center>"
   ]
  },
  {
   "cell_type": "markdown",
   "metadata": {
    "cell_style": "split",
    "slideshow": {
     "slide_type": "fragment"
    }
   },
   "source": [
    "The __extent of adoption__ of WfH-related policies has been limited.\n",
    "\n",
    "Some decisions from prominent players in the Silicon Valley contributed to set the tone."
   ]
  },
  {
   "cell_type": "markdown",
   "metadata": {
    "slideshow": {
     "slide_type": "subslide"
    }
   },
   "source": [
    "```{txt}\n",
    "YAHOO! PROPRIETARY AND CONFIDENTIAL INFORMATION — DO NOT FORWARD\n",
    "\n",
    "Yahoos,\n",
    "\n",
    "Over the past few months, we have introduced a number of great benefits and tools to make us more productive, efficient and fun. With the introduction of initiatives like FYI, Goals and PB&J, we want everyone to participate in our culture and contribute to the positive momentum. From Sunnyvale to Santa Monica, Bangalore to Beijing — I think we can all feel the energy and buzz in our offices.\n",
    "\n",
    "To become the absolute best place to work, communication and collaboration will be important, so we need to be working side-by-side. That is why it is critical that we are all present in our offices. Some of the best decisions and insights come from hallway and cafeteria discussions, meeting new people, and impromptu team meetings. Speed and quality are often sacrificed when we work from home. We need to be one Yahoo!, and that starts with physically being together.\n",
    "\n",
    "Beginning in June, we’re asking all employees with work-from-home arrangements to work in Yahoo! offices. If this impacts you, your management has already been in touch with next steps. And, for the rest of us who occasionally have to stay home for the cable guy, please use your best judgment in the spirit of collaboration. Being a Yahoo isn’t just about your day-to-day job, it is about the interactions and experiences that are only possible in our offices.\n",
    "\n",
    "Thanks to all of you, we’ve already made remarkable progress as a company — and the best is yet to come.\n",
    "\n",
    "Jackie\n",
    "```"
   ]
  },
  {
   "cell_type": "markdown",
   "metadata": {
    "slideshow": {
     "slide_type": "subslide"
    }
   },
   "source": [
    "# WfH: A case of organizational inertia?"
   ]
  },
  {
   "cell_type": "markdown",
   "metadata": {
    "cell_style": "split",
    "slideshow": {
     "slide_type": "fragment"
    }
   },
   "source": [
    "Over the last 15 years, digital forms of organizing have proved very successful:\n",
    "\n",
    "* multinational companies heavily rely on virtual teams to orchestrate resources dispersed across the globe\n",
    "* open innovation communities rely on few principles and simple rules to develop product with complex architecture effectively and efficiently"
   ]
  },
  {
   "cell_type": "markdown",
   "metadata": {
    "cell_style": "split",
    "slideshow": {
     "slide_type": "fragment"
    }
   },
   "source": [
    "<center>\n",
    "    \n",
    "<img src='images/linux_kernel.png'/>\n",
    "    \n",
    "</center>"
   ]
  },
  {
   "cell_type": "markdown",
   "metadata": {
    "slideshow": {
     "slide_type": "slide"
    }
   },
   "source": [
    "<center>\n",
    "    \n",
    "# WfH & Productivity: A case of weak evidence?\n",
    "\n",
    "</center>\n"
   ]
  },
  {
   "cell_type": "markdown",
   "metadata": {
    "slideshow": {
     "slide_type": "subslide"
    }
   },
   "source": [
    "# Two possible alternatives to assess the impact of WfH"
   ]
  },
  {
   "cell_type": "markdown",
   "metadata": {
    "cell_style": "split",
    "slideshow": {
     "slide_type": "fragment"
    }
   },
   "source": [
    "<center>\n",
    "    \n",
    "### Multi-site approach\n",
    "    \n",
    "</center>\n",
    "\n",
    "* __Features:__ \n",
    "    * multiple organizations are compared and contrasted with respect to the extent to which they adopt WfH\n",
    "    * between-organization differences are related with some productivity variable\n",
    "* __Pros:__ external validity\n",
    "* __Cons:__ internal validity/ecological correlation issues"
   ]
  },
  {
   "cell_type": "markdown",
   "metadata": {
    "cell_style": "split",
    "slideshow": {
     "slide_type": "fragment"
    }
   },
   "source": [
    "<center>\n",
    "    \n",
    "### Single-site approach\n",
    "    \n",
    "</center>\n",
    "\n",
    "* __Features:__\n",
    "    * individual employees are compared and contrasted with respect to the extent to which they adopt WfH\n",
    "    * the level of Wfh could be fixed using a field experiment\n",
    "* __Pros:__ internal validity\n",
    "* __Cons:__ \n",
    "    - experiments are hard to run because of costs/logistics/ethical issues\n",
    "    - external validity issues (not all organizations are born equal!)\n",
    "    - limitations of experiments frequently turn into self-selection issues "
   ]
  },
  {
   "cell_type": "markdown",
   "metadata": {
    "slideshow": {
     "slide_type": "slide"
    }
   },
   "source": [
    "<center>\n",
    "\n",
    "# Covid-19 pandemic as a trigger for change\n",
    "    \n",
    "    \n",
    "# _What do digital leaders say about WfH?_\n",
    "\n",
    "</center>"
   ]
  },
  {
   "cell_type": "markdown",
   "metadata": {
    "slideshow": {
     "slide_type": "subslide"
    }
   },
   "source": [
    "<img src='images/gates.png' width=1200px />\n",
    "\n",
    "https://www.gatesnotes.com/podcast"
   ]
  },
  {
   "cell_type": "markdown",
   "metadata": {
    "slideshow": {
     "slide_type": "subslide"
    }
   },
   "source": [
    "<img src='images/twitter.png' width=600px/>"
   ]
  },
  {
   "cell_type": "markdown",
   "metadata": {
    "slideshow": {
     "slide_type": "slide"
    }
   },
   "source": [
    "<center>\n",
    "\n",
    "# Covid-19 pandemic as a policy evaluation opportunity\n",
    "\n",
    "</center>"
   ]
  },
  {
   "cell_type": "markdown",
   "metadata": {
    "slideshow": {
     "slide_type": "subslide"
    }
   },
   "source": [
    "# How and why can the pandemic reveal the effect of WfH on productivity? \n",
    "\n",
    "1. Covid-19 diffused on a global scale quickly – companies had no alternatives apart from adopting the WfH policy\n",
    "2. Going WfH took some weeks to companies – this means at a certain point in time there are some employees working from the office and some others working from home"
   ]
  },
  {
   "cell_type": "markdown",
   "metadata": {
    "slideshow": {
     "slide_type": "subslide"
    }
   },
   "source": [
    "# Exogenous variations are key to policy evaluation!\n",
    "<img src='images/shocks.png' width=800px/>"
   ]
  },
  {
   "cell_type": "markdown",
   "metadata": {
    "slideshow": {
     "slide_type": "subslide"
    }
   },
   "source": [
    "# A policy evaluation framework"
   ]
  },
  {
   "cell_type": "markdown",
   "metadata": {
    "slideshow": {
     "slide_type": "subslide"
    }
   },
   "source": [
    "# The case of company $\\alpha\\beta\\gamma$\n",
    "\n",
    "+ large service company\n",
    "+ several in-house call centers\n",
    "    * circa 6.4 K agents\n",
    "    * different service channels, including marketing and technical assistance"
   ]
  },
  {
   "cell_type": "markdown",
   "metadata": {
    "slideshow": {
     "slide_type": "subslide"
    }
   },
   "source": [
    "# Synthetic sample showing the introduction of WfH at $\\alpha\\beta\\gamma$\n",
    "\n",
    "<img src='images/treatment.png' width=900px/>"
   ]
  },
  {
   "cell_type": "markdown",
   "metadata": {
    "slideshow": {
     "slide_type": "slide"
    }
   },
   "source": [
    "# In-itinere lab\n",
    "\n",
    "* __Context__ – let's assume the following:\n",
    "    + you're part of a team of consultants hired by $\\alpha\\beta\\gamma$ to clarify the productivity effect of WfH\n",
    "    + you have access to an employee-level dataset containing the following variables:\n",
    "        - age\n",
    "        - gender\n",
    "        - organizational tenure\n",
    "        - agent productivity as per:\n",
    "            - first call response (fraction of customer queries solved in one call)\n",
    "            - average handling time (average length of a call)\n",
    "        - characteristics of the line manager\n",
    "* __Problem__: how would you analyze the internal archive data to address the client's problem?\n",
    "* __Deliverables__: work with some fellow students to produce a 2-frame slideshow that illustrates:\n",
    "    + your workflow\n",
    "    + its main strengths\n"
   ]
  }
 ],
 "metadata": {
  "celltoolbar": "Slideshow",
  "kernelspec": {
   "display_name": "Python 3",
   "language": "python",
   "name": "python3"
  },
  "language_info": {
   "codemirror_mode": {
    "name": "ipython",
    "version": 3
   },
   "file_extension": ".py",
   "mimetype": "text/x-python",
   "name": "python",
   "nbconvert_exporter": "python",
   "pygments_lexer": "ipython3",
   "version": "3.9.0"
  },
  "latex_envs": {
   "LaTeX_envs_menu_present": true,
   "autoclose": false,
   "autocomplete": true,
   "bibliofile": "biblio.bib",
   "cite_by": "apalike",
   "current_citInitial": 1,
   "eqLabelWithNumbers": true,
   "eqNumInitial": 1,
   "hotkeys": {
    "equation": "Ctrl-E",
    "itemize": "Ctrl-I"
   },
   "labels_anchors": false,
   "latex_user_defs": false,
   "report_style_numbering": false,
   "user_envs_cfg": false
  },
  "toc": {
   "base_numbering": 1,
   "nav_menu": {},
   "number_sections": false,
   "sideBar": true,
   "skip_h1_title": true,
   "title_cell": "Table of Contents",
   "title_sidebar": "Contents",
   "toc_cell": true,
   "toc_position": {},
   "toc_section_display": true,
   "toc_window_display": false
  },
  "varInspector": {
   "cols": {
    "lenName": 16,
    "lenType": 16,
    "lenVar": 40
   },
   "kernels_config": {
    "python": {
     "delete_cmd_postfix": "",
     "delete_cmd_prefix": "del ",
     "library": "var_list.py",
     "varRefreshCmd": "print(var_dic_list())"
    },
    "r": {
     "delete_cmd_postfix": ") ",
     "delete_cmd_prefix": "rm(",
     "library": "var_list.r",
     "varRefreshCmd": "cat(var_dic_list()) "
    }
   },
   "types_to_exclude": [
    "module",
    "function",
    "builtin_function_or_method",
    "instance",
    "_Feature"
   ],
   "window_display": false
  }
 },
 "nbformat": 4,
 "nbformat_minor": 4
}
