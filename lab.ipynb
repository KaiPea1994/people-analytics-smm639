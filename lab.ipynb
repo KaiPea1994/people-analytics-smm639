{
  "nbformat": 4,
  "nbformat_minor": 0,
  "metadata": {
    "colab": {
      "name": "lab",
      "provenance": [],
      "collapsed_sections": [],
      "mount_file_id": "1vozppZAgENIGDSirA5FOKZfK8CimNi1s",
      "authorship_tag": "ABX9TyMc1026AEiyRurwWbjmsRVh",
      "include_colab_link": true
    },
    "kernelspec": {
      "name": "python3",
      "display_name": "Python 3"
    }
  },
  "cells": [
    {
      "cell_type": "markdown",
      "metadata": {
        "id": "view-in-github",
        "colab_type": "text"
      },
      "source": [
        "<a href=\"https://colab.research.google.com/github/simoneSantoni/people-analytics-smm639/blob/main/lab.ipynb\" target=\"_parent\"><img src=\"https://colab.research.google.com/assets/colab-badge.svg\" alt=\"Open In Colab\"/></a>"
      ]
    },
    {
      "cell_type": "markdown",
      "metadata": {
        "id": "ie2RkGZ_Zjre"
      },
      "source": [
        "# SMM639 - People Analytics, Week 10 lab & coursework\n",
        "\n",
        "\n",
        "\n",
        "---\n",
        "\n",
        "__Synopsis:__ This notebook expands on the EDA reported in [EDA_Adult_Data_EDA.Rmd](https://github.com/simoneSantoni/people-analytics-smm639/blob/main/session1/EDA_Adult_Data_EDA.Rmd) to:\n",
        "\n",
        "*   read & clean the relevant data using Python\n",
        "*   introduce the coursework  \n",
        "\n",
        "---\n",
        "__Info:__\n",
        "\n",
        "_Authors:_ Vali Asimit [Alexandru.Asimit.1@city.ac.uk] & Simone Santoni [simone.santoni.1@city.ac.uk]\n",
        "\n",
        "_History:_ created on Mon Nov  30 07:44:17"
      ]
    },
    {
      "cell_type": "markdown",
      "metadata": {
        "id": "m8bH2hHdv_Ar"
      },
      "source": [
        "# Setup"
      ]
    },
    {
      "cell_type": "code",
      "metadata": {
        "id": "Hzy39jTdYUBl"
      },
      "source": [
        "# libraries\n",
        "import os\n",
        "import glob\n",
        "import numpy as np\n",
        "import matplotlib as pyplot\n",
        "import seaborn as sns\n",
        "import pandas as pd"
      ],
      "execution_count": 2,
      "outputs": []
    },
    {
      "cell_type": "markdown",
      "metadata": {
        "id": "rTQohcLScEWi"
      },
      "source": [
        "# Load data"
      ]
    },
    {
      "cell_type": "markdown",
      "metadata": {
        "id": "8yIQI-AWyjsh"
      },
      "source": [
        "## UCI Data"
      ]
    },
    {
      "cell_type": "markdown",
      "metadata": {
        "id": "6jhjTG6eyoiy"
      },
      "source": [
        "### List files"
      ]
    },
    {
      "cell_type": "code",
      "metadata": {
        "id": "RBoMHxC_cGn3"
      },
      "source": [
        "# collect data\n",
        "# --+ target dataset\n",
        "file_names = ['adult.data', 'adult.names', 'adult.test']\n",
        "# --+ base url\n",
        "base_url = 'http://archive.ics.uci.edu/ml/machine-learning-databases/adult/'\n",
        "# --+ assemble urls\n",
        "file_locations = ['{}{}'.format(base_url, i) for i in file_names]\n",
        "in_files = dict(zip(file_names, file_locations))"
      ],
      "execution_count": 5,
      "outputs": []
    },
    {
      "cell_type": "code",
      "metadata": {
        "colab": {
          "base_uri": "https://localhost:8080/"
        },
        "id": "Enw7jYfllx5k",
        "outputId": "fe07cec2-42b0-4d0c-fa40-8861b1f04e09"
      },
      "source": [
        "# collection of files to iterate\n",
        "in_files"
      ],
      "execution_count": 4,
      "outputs": [
        {
          "output_type": "execute_result",
          "data": {
            "text/plain": [
              "{'adult.data': 'http://archive.ics.uci.edu/ml/machine-learning-databases/adult/adult.data',\n",
              " 'adult.names': 'http://archive.ics.uci.edu/ml/machine-learning-databases/adult/adult.names',\n",
              " 'adult.test': 'http://archive.ics.uci.edu/ml/machine-learning-databases/adult/adult.test'}"
            ]
          },
          "metadata": {
            "tags": []
          },
          "execution_count": 4
        }
      ]
    },
    {
      "cell_type": "markdown",
      "metadata": {
        "id": "thw3BQdmh3Fg"
      },
      "source": [
        "### Create a 'read-and-clean' pipeline"
      ]
    },
    {
      "cell_type": "code",
      "metadata": {
        "id": "CIiq3oWwh2Z6"
      },
      "source": [
        "def read_and_clean(target_, nan_):\n",
        "    \"\"\"\n",
        "    params\n",
        "    ------\n",
        "    target_ : a string, name of the target file \n",
        "    nan_    : the string uses to encode NANs \n",
        "\n",
        "    return\n",
        "    ------\n",
        "    a Pandas DF without NANs\n",
        "\n",
        "    \"\"\"\n",
        "    # file location\n",
        "    url = in_files[target_]\n",
        "    # read data\n",
        "    # --+ there's sort of comment in the first row of 'test'\n",
        "    if 'test' not in target_:\n",
        "        df = pd.read_csv(url, header=None)\n",
        "    else:\n",
        "        df = pd.read_csv(url, header=None, skiprows=1)\n",
        "    # assign names to columns\n",
        "    new_cols = ['X{}'.format(i) for i in range(1, 15)]\n",
        "    new_cols.extend('Y')\n",
        "    old_cols = df.columns\n",
        "    df.rename(columns=dict(zip(old_cols, new_cols)), inplace=True)\n",
        "    # deal with NANs\n",
        "    # --+ replace '?' with NANs\n",
        "    for col in df.columns:\n",
        "        col_type = str(df[col].dtype)\n",
        "        if col_type == 'object':\n",
        "            pattern = '\\{}'.format(nan_)\n",
        "            df.loc[df[col].str.contains(pattern), col] = np.nan\n",
        "        else:\n",
        "            pass\n",
        "    # --+ drop NANs listwise\n",
        "    df.dropna(inplace=True)\n",
        "    # gimme the output!\n",
        "    return df\n",
        "\n"
      ],
      "execution_count": null,
      "outputs": []
    },
    {
      "cell_type": "markdown",
      "metadata": {
        "id": "BvTjEt8mYl_6"
      },
      "source": [
        "### Reading data and get info"
      ]
    },
    {
      "cell_type": "markdown",
      "metadata": {
        "id": "gq-Ugch5zINb"
      },
      "source": [
        "#### Train"
      ]
    },
    {
      "cell_type": "code",
      "metadata": {
        "colab": {
          "base_uri": "https://localhost:8080/"
        },
        "id": "1NLa2JIuoHf0",
        "outputId": "8d87ad9a-8e56-41e2-ccb3-eb989a78d253"
      },
      "source": [
        "# read and clean\n",
        "train = read_and_clean(target_='adult.data', nan_='?')\n",
        "# get info\n",
        "train.info()"
      ],
      "execution_count": null,
      "outputs": [
        {
          "output_type": "stream",
          "text": [
            "<class 'pandas.core.frame.DataFrame'>\n",
            "Int64Index: 30162 entries, 0 to 32560\n",
            "Data columns (total 15 columns):\n",
            " #   Column  Non-Null Count  Dtype \n",
            "---  ------  --------------  ----- \n",
            " 0   X1      30162 non-null  int64 \n",
            " 1   X2      30162 non-null  object\n",
            " 2   X3      30162 non-null  int64 \n",
            " 3   X4      30162 non-null  object\n",
            " 4   X5      30162 non-null  int64 \n",
            " 5   X6      30162 non-null  object\n",
            " 6   X7      30162 non-null  object\n",
            " 7   X8      30162 non-null  object\n",
            " 8   X9      30162 non-null  object\n",
            " 9   X10     30162 non-null  object\n",
            " 10  X11     30162 non-null  int64 \n",
            " 11  X12     30162 non-null  int64 \n",
            " 12  X13     30162 non-null  int64 \n",
            " 13  X14     30162 non-null  object\n",
            " 14  Y       30162 non-null  object\n",
            "dtypes: int64(6), object(9)\n",
            "memory usage: 3.7+ MB\n"
          ],
          "name": "stdout"
        }
      ]
    },
    {
      "cell_type": "markdown",
      "metadata": {
        "id": "iukA5Uedg0mb"
      },
      "source": [
        "#### Test "
      ]
    },
    {
      "cell_type": "code",
      "metadata": {
        "colab": {
          "base_uri": "https://localhost:8080/"
        },
        "id": "kDZsFaZcoCGt",
        "outputId": "3c20e7b1-c880-40d7-e782-72d666454663"
      },
      "source": [
        "# read and clean\n",
        "test = read_and_clean(target_='adult.test', nan_='?')\n",
        "# get info\n",
        "test.info()"
      ],
      "execution_count": null,
      "outputs": [
        {
          "output_type": "stream",
          "text": [
            "<class 'pandas.core.frame.DataFrame'>\n",
            "Int64Index: 15060 entries, 0 to 16280\n",
            "Data columns (total 15 columns):\n",
            " #   Column  Non-Null Count  Dtype \n",
            "---  ------  --------------  ----- \n",
            " 0   X1      15060 non-null  int64 \n",
            " 1   X2      15060 non-null  object\n",
            " 2   X3      15060 non-null  int64 \n",
            " 3   X4      15060 non-null  object\n",
            " 4   X5      15060 non-null  int64 \n",
            " 5   X6      15060 non-null  object\n",
            " 6   X7      15060 non-null  object\n",
            " 7   X8      15060 non-null  object\n",
            " 8   X9      15060 non-null  object\n",
            " 9   X10     15060 non-null  object\n",
            " 10  X11     15060 non-null  int64 \n",
            " 11  X12     15060 non-null  int64 \n",
            " 12  X13     15060 non-null  int64 \n",
            " 13  X14     15060 non-null  object\n",
            " 14  Y       15060 non-null  object\n",
            "dtypes: int64(6), object(9)\n",
            "memory usage: 1.8+ MB\n"
          ],
          "name": "stdout"
        }
      ]
    },
    {
      "cell_type": "markdown",
      "metadata": {
        "id": "CBkWy3hjzX8k"
      },
      "source": [
        "## Data with c-SVM predictions"
      ]
    },
    {
      "cell_type": "code",
      "metadata": {
        "colab": {
          "base_uri": "https://localhost:8080/"
        },
        "id": "4WcZLNy3zuqX",
        "outputId": "ebad5ccd-2fc1-4351-fab0-f2c45302781d"
      },
      "source": [
        "# url pointing to the GitHub repo\n",
        "url = 'https://raw.githubusercontent.com/simoneSantoni/'\\\n",
        "      'people-analytics-smm639/main/session1/cSVM.json'\n",
        "pr = pd.read_json(url)\n",
        "# get info\n",
        "pr.info()"
      ],
      "execution_count": 14,
      "outputs": [
        {
          "output_type": "stream",
          "text": [
            "<class 'pandas.core.frame.DataFrame'>\n",
            "Int64Index: 15060 entries, 0 to 15059\n",
            "Data columns (total 15 columns):\n",
            " #   Column            Non-Null Count  Dtype \n",
            "---  ------            --------------  ----- \n",
            " 0   Y                 15060 non-null  int64 \n",
            " 1   X1                15060 non-null  int64 \n",
            " 2   X2                15060 non-null  object\n",
            " 3   X3                15060 non-null  int64 \n",
            " 4   X4                15060 non-null  object\n",
            " 5   X5                15060 non-null  int64 \n",
            " 6   X6                15060 non-null  object\n",
            " 7   X7                15060 non-null  object\n",
            " 8   X8                15060 non-null  object\n",
            " 9   X9                15060 non-null  object\n",
            " 10  X10               15060 non-null  object\n",
            " 11  X11               15060 non-null  int64 \n",
            " 12  X12               15060 non-null  int64 \n",
            " 13  X13               15060 non-null  int64 \n",
            " 14  prediction_C_SVM  15060 non-null  int64 \n",
            "dtypes: int64(8), object(7)\n",
            "memory usage: 1.8+ MB\n"
          ],
          "name": "stdout"
        }
      ]
    },
    {
      "cell_type": "markdown",
      "metadata": {
        "id": "3jXgPy-Bg8Ha"
      },
      "source": [
        "# Coursework: visualization of misclassified cases\n",
        "\n",
        "---\n",
        "__Context__:\n",
        "\n",
        "+ focus on misclassified cases – i.e., cases for which $\\hat{y_{i}} = 1$ & $y_{i} = -1$ \n",
        "+ design and execute a Bokeh dashboard that help a business analyst:\n",
        "  * to understand how misclassifiied cases map onto the features $X1 - X13$\n",
        "  * to understand how misclassidfied cases related with cases that are correclty classified \n",
        "\n",
        "---\n",
        "__Deliverables__:\n",
        "\n",
        "+ an executive summary of one page (circa 400 words) illustrating the key insights emerging from the dashboard\n",
        "+ the Python code behing the Bokeh dashboard\n",
        "+ a .hmtl file cointaining the dashboard\n",
        "\n",
        "---\n",
        "__Deadline__ is December 15, 2020; submit your package via Moodle\n"
      ]
    }
  ]
}